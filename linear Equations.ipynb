{
 "cells": [
  {
   "cell_type": "code",
   "execution_count": 1,
   "id": "39ebfdb1-8b27-45dd-9c4a-2a4081dae031",
   "metadata": {},
   "outputs": [],
   "source": [
    "# Two Variables\n",
    "\n",
    "# 2x + 3y = 8\n",
    "# 4x + y = 7"
   ]
  },
  {
   "cell_type": "code",
   "execution_count": 2,
   "id": "b298e08c-c026-42ba-8fa7-a404d54c8d88",
   "metadata": {},
   "outputs": [],
   "source": [
    "import numpy as np"
   ]
  },
  {
   "cell_type": "code",
   "execution_count": 3,
   "id": "a424e4d8-8a6b-4267-b328-c76df5a3e426",
   "metadata": {},
   "outputs": [],
   "source": [
    "A = np.array([[2,3], [4,1]])\n",
    "b = np.array([8,7])"
   ]
  },
  {
   "cell_type": "code",
   "execution_count": 4,
   "id": "d830ce78-437b-4538-8024-38799b46153a",
   "metadata": {},
   "outputs": [],
   "source": [
    "x = np.linalg.solve(A,b)"
   ]
  },
  {
   "cell_type": "code",
   "execution_count": 5,
   "id": "87e78100-5240-4582-bfab-d0f5d2650e19",
   "metadata": {},
   "outputs": [
    {
     "data": {
      "text/plain": [
       "array([1.3, 1.8])"
      ]
     },
     "execution_count": 5,
     "metadata": {},
     "output_type": "execute_result"
    }
   ],
   "source": [
    "x"
   ]
  },
  {
   "cell_type": "code",
   "execution_count": 9,
   "id": "9fcf19af-a529-4d88-8b52-0a2ebb53ddfe",
   "metadata": {},
   "outputs": [
    {
     "name": "stdout",
     "output_type": "stream",
     "text": [
      "Solution: {x: 13/10, y: 9/5}\n"
     ]
    }
   ],
   "source": [
    "import sympy as sp\n",
    "\n",
    "x, y = sp.symbols('x y')  \n",
    "\n",
    "eq1 = sp.Eq(2*x + 3*y, 8)  \n",
    "eq2 = sp.Eq(4*x + y, 7)  \n",
    "\n",
    "solution = sp.solve((eq1, eq2), (x, y))  \n",
    "\n",
    "print(\"Solution:\", solution)  "
   ]
  },
  {
   "cell_type": "code",
   "execution_count": 10,
   "id": "74a3765e-d76e-4f2b-96a1-7eb5037f2d73",
   "metadata": {},
   "outputs": [
    {
     "data": {
      "text/plain": [
       "1.3"
      ]
     },
     "execution_count": 10,
     "metadata": {},
     "output_type": "execute_result"
    }
   ],
   "source": [
    "13/10"
   ]
  },
  {
   "cell_type": "code",
   "execution_count": 11,
   "id": "b1c6c38c-bdbd-4242-9d9e-3255df345556",
   "metadata": {},
   "outputs": [
    {
     "data": {
      "text/plain": [
       "1.8"
      ]
     },
     "execution_count": 11,
     "metadata": {},
     "output_type": "execute_result"
    }
   ],
   "source": [
    "9/5"
   ]
  },
  {
   "cell_type": "code",
   "execution_count": 12,
   "id": "7521d59c-f861-419c-9455-e83def0ca999",
   "metadata": {},
   "outputs": [
    {
     "name": "stdout",
     "output_type": "stream",
     "text": [
      "Solution for x, y, z: [ 3.80000000e+00 -3.50830476e-16 -4.00000000e-01]\n"
     ]
    }
   ],
   "source": [
    "# 3 variables\n",
    "\n",
    "A = np.array([[2, 1, -1],  \n",
    "              [3, 2, 1],  \n",
    "              [1, -1, 2]]) \n",
    "\n",
    "b = np.array([8, 11, 3]) \n",
    "\n",
    "x = np.linalg.solve(A, b) \n",
    "\n",
    "print(\"Solution for x, y, z:\", x)  "
   ]
  },
  {
   "cell_type": "code",
   "execution_count": 13,
   "id": "8b8b420c-8467-48cb-9e8d-d45b738faee9",
   "metadata": {},
   "outputs": [
    {
     "name": "stdout",
     "output_type": "stream",
     "text": [
      "{x: 19/5, y: 0, z: -2/5}\n"
     ]
    }
   ],
   "source": [
    "x, y, z = sp.symbols('x y z')  \n",
    "\n",
    "eq1 = sp.Eq(2*x + y - z, 8)  \n",
    "eq2 = sp.Eq(3*x + 2*y + z, 11)  \n",
    "eq3 = sp.Eq(x - y + 2*z, 3) \n",
    "\n",
    "solution = sp.solve((eq1, eq2, eq3), (x, y, z))  \n",
    "\n",
    "print(solution)  "
   ]
  },
  {
   "cell_type": "code",
   "execution_count": 14,
   "id": "3de2864b-97ef-474e-8794-8c08a18a28ae",
   "metadata": {},
   "outputs": [
    {
     "data": {
      "text/plain": [
       "3.8"
      ]
     },
     "execution_count": 14,
     "metadata": {},
     "output_type": "execute_result"
    }
   ],
   "source": [
    "19/5"
   ]
  },
  {
   "cell_type": "code",
   "execution_count": 15,
   "id": "43396549-e293-44d4-bc10-1bfcc6635553",
   "metadata": {},
   "outputs": [
    {
     "data": {
      "text/plain": [
       "-0.4"
      ]
     },
     "execution_count": 15,
     "metadata": {},
     "output_type": "execute_result"
    }
   ],
   "source": [
    "-2/5"
   ]
  },
  {
   "cell_type": "code",
   "execution_count": null,
   "id": "ee112fef-c6af-4bd8-b20d-6505b4c74f87",
   "metadata": {},
   "outputs": [],
   "source": []
  },
  {
   "cell_type": "code",
   "execution_count": null,
   "id": "d188e296-4023-4724-b00a-5a7a1a905ef5",
   "metadata": {},
   "outputs": [],
   "source": []
  },
  {
   "cell_type": "code",
   "execution_count": null,
   "id": "e9d273d4-b7e3-4780-8d06-de60aeea542e",
   "metadata": {},
   "outputs": [],
   "source": []
  },
  {
   "cell_type": "code",
   "execution_count": null,
   "id": "1aac5002-df8e-449f-bb2c-6b660f586bb9",
   "metadata": {},
   "outputs": [],
   "source": []
  },
  {
   "cell_type": "code",
   "execution_count": null,
   "id": "c1260855-1ca6-4b22-9f0a-98976eefcb47",
   "metadata": {},
   "outputs": [],
   "source": []
  },
  {
   "cell_type": "code",
   "execution_count": null,
   "id": "637f7a24-d8df-4cfd-bb5d-8b86af475730",
   "metadata": {},
   "outputs": [],
   "source": []
  },
  {
   "cell_type": "code",
   "execution_count": null,
   "id": "ccd0d9fc-4523-4ece-bc5e-0ebbfeb4990b",
   "metadata": {},
   "outputs": [],
   "source": []
  }
 ],
 "metadata": {
  "kernelspec": {
   "display_name": "Python 3 (ipykernel)",
   "language": "python",
   "name": "python3"
  },
  "language_info": {
   "codemirror_mode": {
    "name": "ipython",
    "version": 3
   },
   "file_extension": ".py",
   "mimetype": "text/x-python",
   "name": "python",
   "nbconvert_exporter": "python",
   "pygments_lexer": "ipython3",
   "version": "3.12.4"
  }
 },
 "nbformat": 4,
 "nbformat_minor": 5
}

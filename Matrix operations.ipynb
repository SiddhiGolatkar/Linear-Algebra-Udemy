{
 "cells": [
  {
   "cell_type": "markdown",
   "id": "31c74270-a52f-4282-bf71-14fbb09d7ac1",
   "metadata": {},
   "source": [
    "### Defining the matrix"
   ]
  },
  {
   "cell_type": "code",
   "execution_count": 1,
   "id": "d209d119-c7a7-41af-8e0b-7427bc300187",
   "metadata": {},
   "outputs": [],
   "source": [
    "import numpy as np"
   ]
  },
  {
   "cell_type": "code",
   "execution_count": 2,
   "id": "a7f3c286-d17b-469a-9e3b-85388bfd9f6b",
   "metadata": {},
   "outputs": [
    {
     "data": {
      "text/plain": [
       "array([[1, 2, 3],\n",
       "       [4, 5, 6]])"
      ]
     },
     "execution_count": 2,
     "metadata": {},
     "output_type": "execute_result"
    }
   ],
   "source": [
    "x = np.array([[1,2,3], [4,5,6]])\n",
    "x"
   ]
  },
  {
   "cell_type": "code",
   "execution_count": 3,
   "id": "fa489407-9c7d-4f43-a3ef-6ef314fd66f0",
   "metadata": {},
   "outputs": [
    {
     "data": {
      "text/plain": [
       "(2, 3)"
      ]
     },
     "execution_count": 3,
     "metadata": {},
     "output_type": "execute_result"
    }
   ],
   "source": [
    "x.shape"
   ]
  },
  {
   "cell_type": "code",
   "execution_count": 4,
   "id": "d17b9b6b-5d31-4abd-a23b-6f8bd2217bbb",
   "metadata": {},
   "outputs": [
    {
     "data": {
      "text/plain": [
       "array([[1, 1, 8],\n",
       "       [8, 8, 5]])"
      ]
     },
     "execution_count": 4,
     "metadata": {},
     "output_type": "execute_result"
    }
   ],
   "source": [
    "np.random.randint(1,10,(2,3))"
   ]
  },
  {
   "cell_type": "markdown",
   "id": "5ca05142-25d7-4eec-9765-a3b0ff85595c",
   "metadata": {},
   "source": [
    "### Matrix Arithmetic"
   ]
  },
  {
   "cell_type": "code",
   "execution_count": 5,
   "id": "59e4d7a0-9a6c-472d-859f-12e2e6842e87",
   "metadata": {},
   "outputs": [
    {
     "name": "stdout",
     "output_type": "stream",
     "text": [
      "[[6 1 4]\n",
      " [4 8 4]]\n",
      "[[16 13 15]\n",
      " [18 17 19]]\n"
     ]
    }
   ],
   "source": [
    "# Addition\n",
    "\n",
    "np.random.seed(0)\n",
    "a = np.random.randint(1,10,(2,3))\n",
    "b = np.random.randint(11,20,(2,3))\n",
    "print(a)\n",
    "print(b)"
   ]
  },
  {
   "cell_type": "code",
   "execution_count": 6,
   "id": "b4251bf3-1f0c-41d7-af66-188053220396",
   "metadata": {},
   "outputs": [
    {
     "data": {
      "text/plain": [
       "array([[22, 14, 19],\n",
       "       [22, 25, 23]])"
      ]
     },
     "execution_count": 6,
     "metadata": {},
     "output_type": "execute_result"
    }
   ],
   "source": [
    "a + b"
   ]
  },
  {
   "cell_type": "code",
   "execution_count": 7,
   "id": "a26e8427-a060-448b-af93-03de67938d1f",
   "metadata": {},
   "outputs": [
    {
     "data": {
      "text/plain": [
       "array([[-10, -12, -11],\n",
       "       [-14,  -9, -15]])"
      ]
     },
     "execution_count": 7,
     "metadata": {},
     "output_type": "execute_result"
    }
   ],
   "source": [
    "# subtraction\n",
    "\n",
    "a - b"
   ]
  },
  {
   "cell_type": "code",
   "execution_count": 8,
   "id": "3e376db7-508d-485c-a1ac-c8e88b468820",
   "metadata": {},
   "outputs": [
    {
     "data": {
      "text/plain": [
       "array([[6, 1, 4],\n",
       "       [4, 8, 4]])"
      ]
     },
     "execution_count": 8,
     "metadata": {},
     "output_type": "execute_result"
    }
   ],
   "source": [
    "a"
   ]
  },
  {
   "cell_type": "code",
   "execution_count": 9,
   "id": "8e6ae479-60b6-4102-b305-fbb9a22dc17b",
   "metadata": {},
   "outputs": [
    {
     "data": {
      "text/plain": [
       "array([[16, 13, 15],\n",
       "       [18, 17, 19]])"
      ]
     },
     "execution_count": 9,
     "metadata": {},
     "output_type": "execute_result"
    }
   ],
   "source": [
    "b"
   ]
  },
  {
   "cell_type": "code",
   "execution_count": 10,
   "id": "8ecd41a4-4085-4214-b174-2aeefc72c426",
   "metadata": {},
   "outputs": [
    {
     "data": {
      "text/plain": [
       "array([[ 96,  13,  60],\n",
       "       [ 72, 136,  76]])"
      ]
     },
     "execution_count": 10,
     "metadata": {},
     "output_type": "execute_result"
    }
   ],
   "source": [
    "# multiplication - Hadamard\n",
    "\n",
    "a * b"
   ]
  },
  {
   "cell_type": "code",
   "execution_count": 11,
   "id": "bebae7b2-fc60-44b7-9ad3-7f74def43536",
   "metadata": {},
   "outputs": [
    {
     "data": {
      "text/plain": [
       "array([1, 2])"
      ]
     },
     "execution_count": 11,
     "metadata": {},
     "output_type": "execute_result"
    }
   ],
   "source": [
    "c = np.arange(1,3)\n",
    "c"
   ]
  },
  {
   "cell_type": "code",
   "execution_count": 12,
   "id": "c68008d5-9e6e-44fb-8acf-99fdab06f43b",
   "metadata": {},
   "outputs": [
    {
     "ename": "ValueError",
     "evalue": "operands could not be broadcast together with shapes (2,3) (2,) ",
     "output_type": "error",
     "traceback": [
      "\u001b[1;31m---------------------------------------------------------------------------\u001b[0m",
      "\u001b[1;31mValueError\u001b[0m                                Traceback (most recent call last)",
      "Cell \u001b[1;32mIn[12], line 1\u001b[0m\n\u001b[1;32m----> 1\u001b[0m a \u001b[38;5;241m+\u001b[39m c\n",
      "\u001b[1;31mValueError\u001b[0m: operands could not be broadcast together with shapes (2,3) (2,) "
     ]
    }
   ],
   "source": [
    "a + c"
   ]
  },
  {
   "cell_type": "code",
   "execution_count": 13,
   "id": "8537dc94-4f32-4845-8493-6d1aa586fba4",
   "metadata": {},
   "outputs": [
    {
     "data": {
      "text/plain": [
       "array([[0.375     , 0.07692308, 0.26666667],\n",
       "       [0.22222222, 0.47058824, 0.21052632]])"
      ]
     },
     "execution_count": 13,
     "metadata": {},
     "output_type": "execute_result"
    }
   ],
   "source": [
    "# matrix division\n",
    "\n",
    "a / b"
   ]
  },
  {
   "cell_type": "markdown",
   "id": "5023aacb-d43e-4be4-b2ea-57164d172f2e",
   "metadata": {},
   "source": [
    "### matrix multiplication - dot product"
   ]
  },
  {
   "cell_type": "code",
   "execution_count": 22,
   "id": "b7d4a1af-8f81-48c2-835b-42a985d4b600",
   "metadata": {},
   "outputs": [
    {
     "data": {
      "text/plain": [
       "array([[9, 2],\n",
       "       [7, 8]])"
      ]
     },
     "execution_count": 22,
     "metadata": {},
     "output_type": "execute_result"
    }
   ],
   "source": [
    "\n",
    "a = np.random.randint(1,10,(2,2))\n",
    "b = np.random.randint(1,10,(2,2))\n",
    "a"
   ]
  },
  {
   "cell_type": "code",
   "execution_count": 23,
   "id": "0e055bdf-868e-4db3-af32-1fca755ecc05",
   "metadata": {},
   "outputs": [
    {
     "data": {
      "text/plain": [
       "array([[8, 9],\n",
       "       [2, 6]])"
      ]
     },
     "execution_count": 23,
     "metadata": {},
     "output_type": "execute_result"
    }
   ],
   "source": [
    "b"
   ]
  },
  {
   "cell_type": "code",
   "execution_count": 24,
   "id": "7015b98b-2655-43db-b49d-4f5e30f3412a",
   "metadata": {},
   "outputs": [
    {
     "data": {
      "text/plain": [
       "array([[ 76,  93],\n",
       "       [ 72, 111]])"
      ]
     },
     "execution_count": 24,
     "metadata": {},
     "output_type": "execute_result"
    }
   ],
   "source": [
    "np.matmul(a,b)"
   ]
  },
  {
   "cell_type": "code",
   "execution_count": 27,
   "id": "a75b63fe-f714-4c2d-827f-23440811d15f",
   "metadata": {},
   "outputs": [
    {
     "data": {
      "text/plain": [
       "array([[ 76,  93],\n",
       "       [ 72, 111]])"
      ]
     },
     "execution_count": 27,
     "metadata": {},
     "output_type": "execute_result"
    }
   ],
   "source": [
    "a @ b"
   ]
  },
  {
   "cell_type": "code",
   "execution_count": 29,
   "id": "1cac25d5-f84c-4639-8174-fcbfad2b92cf",
   "metadata": {},
   "outputs": [
    {
     "data": {
      "text/plain": [
       "array([[ 76,  93],\n",
       "       [ 72, 111]])"
      ]
     },
     "execution_count": 29,
     "metadata": {},
     "output_type": "execute_result"
    }
   ],
   "source": [
    "a.dot(b)"
   ]
  },
  {
   "cell_type": "code",
   "execution_count": 25,
   "id": "2b4b6bfb-86f3-4130-83c1-808f2e018a6c",
   "metadata": {},
   "outputs": [
    {
     "data": {
      "text/plain": [
       "(2, 2)"
      ]
     },
     "execution_count": 25,
     "metadata": {},
     "output_type": "execute_result"
    }
   ],
   "source": [
    "np.shape(a)"
   ]
  },
  {
   "cell_type": "code",
   "execution_count": 26,
   "id": "d0b83a7b-5525-4962-acbb-965c5900694b",
   "metadata": {},
   "outputs": [
    {
     "data": {
      "text/plain": [
       "(2, 2)"
      ]
     },
     "execution_count": 26,
     "metadata": {},
     "output_type": "execute_result"
    }
   ],
   "source": [
    "np.shape(b)"
   ]
  },
  {
   "cell_type": "markdown",
   "id": "ca1a842e-28db-4776-9180-9b0ff2838441",
   "metadata": {},
   "source": [
    "### Matrix Vector Multiplication"
   ]
  },
  {
   "cell_type": "code",
   "execution_count": 2,
   "id": "dd7e09f8-add3-4f4a-97f2-8180c712aa83",
   "metadata": {},
   "outputs": [
    {
     "data": {
      "text/plain": [
       "array([[56, 32, 49, 30],\n",
       "       [84, 35, 36, 75],\n",
       "       [59, 71, 49, 56],\n",
       "       [25, 87, 34, 44]])"
      ]
     },
     "execution_count": 2,
     "metadata": {},
     "output_type": "execute_result"
    }
   ],
   "source": [
    "a = np.random.randint(10,100,(4,4))\n",
    "a"
   ]
  },
  {
   "cell_type": "code",
   "execution_count": 4,
   "id": "af681067-3bd2-4d67-8f5b-24a9252d4be4",
   "metadata": {},
   "outputs": [
    {
     "data": {
      "text/plain": [
       "array([2, 3, 4, 5])"
      ]
     },
     "execution_count": 4,
     "metadata": {},
     "output_type": "execute_result"
    }
   ],
   "source": [
    "b = np.arange(2,6)\n",
    "b"
   ]
  },
  {
   "cell_type": "code",
   "execution_count": 5,
   "id": "58c326e5-c666-4b17-9a09-1c3023092d62",
   "metadata": {},
   "outputs": [],
   "source": [
    "c = a.dot(b)"
   ]
  },
  {
   "cell_type": "code",
   "execution_count": 6,
   "id": "758a6470-3f8b-4f42-935f-a5966b1bfbac",
   "metadata": {},
   "outputs": [
    {
     "data": {
      "text/plain": [
       "array([554, 792, 807, 667])"
      ]
     },
     "execution_count": 6,
     "metadata": {},
     "output_type": "execute_result"
    }
   ],
   "source": [
    "c"
   ]
  },
  {
   "cell_type": "markdown",
   "id": "73b20163-0942-41d0-aeed-2c85f499f52a",
   "metadata": {},
   "source": [
    "### Matrix Scalar Multiplication"
   ]
  },
  {
   "cell_type": "code",
   "execution_count": 7,
   "id": "2d51bbe1-7987-45ac-9f1b-e267941569c3",
   "metadata": {},
   "outputs": [
    {
     "data": {
      "text/plain": [
       "array([[56, 32, 49, 30],\n",
       "       [84, 35, 36, 75],\n",
       "       [59, 71, 49, 56],\n",
       "       [25, 87, 34, 44]])"
      ]
     },
     "execution_count": 7,
     "metadata": {},
     "output_type": "execute_result"
    }
   ],
   "source": [
    "a"
   ]
  },
  {
   "cell_type": "code",
   "execution_count": 9,
   "id": "5479ef8b-3499-4b85-a69e-eeb16f00395f",
   "metadata": {},
   "outputs": [
    {
     "data": {
      "text/plain": [
       "array([[112,  64,  98,  60],\n",
       "       [168,  70,  72, 150],\n",
       "       [118, 142,  98, 112],\n",
       "       [ 50, 174,  68,  88]])"
      ]
     },
     "execution_count": 9,
     "metadata": {},
     "output_type": "execute_result"
    }
   ],
   "source": [
    "2 * a"
   ]
  },
  {
   "cell_type": "markdown",
   "id": "dbbf0f83-95f1-4e8f-9c68-73546d49caa9",
   "metadata": {},
   "source": [
    "### Types of matrix"
   ]
  },
  {
   "cell_type": "code",
   "execution_count": 13,
   "id": "b8472b39-6570-4ea2-a7cd-b7b19d049770",
   "metadata": {},
   "outputs": [],
   "source": [
    "# square matrix\n",
    "# no.of rows = no.of columns"
   ]
  },
  {
   "cell_type": "code",
   "execution_count": 11,
   "id": "62b4102d-d7fb-4dc5-af31-19a7a6571f68",
   "metadata": {},
   "outputs": [
    {
     "data": {
      "text/plain": [
       "array([[56, 32, 49, 30],\n",
       "       [84, 35, 36, 75],\n",
       "       [59, 71, 49, 56],\n",
       "       [25, 87, 34, 44]])"
      ]
     },
     "execution_count": 11,
     "metadata": {},
     "output_type": "execute_result"
    }
   ],
   "source": [
    "a"
   ]
  },
  {
   "cell_type": "code",
   "execution_count": 12,
   "id": "1e4a6aab-30b1-4d0e-a5ce-969619d4f248",
   "metadata": {},
   "outputs": [
    {
     "data": {
      "text/plain": [
       "(4, 4)"
      ]
     },
     "execution_count": 12,
     "metadata": {},
     "output_type": "execute_result"
    }
   ],
   "source": [
    "a.shape"
   ]
  },
  {
   "cell_type": "code",
   "execution_count": 19,
   "id": "1598e09e-8296-4f73-9ace-5dc3e58d0940",
   "metadata": {},
   "outputs": [],
   "source": [
    "# symmetic matrix - is a type of square matrix where the top right triangle is same as bottom left triangle"
   ]
  },
  {
   "cell_type": "code",
   "execution_count": 15,
   "id": "382e0e70-9273-46ad-a121-8c275db4dcfe",
   "metadata": {},
   "outputs": [
    {
     "data": {
      "text/plain": [
       "array([[1, 2, 3, 4, 5],\n",
       "       [2, 1, 2, 3, 4],\n",
       "       [3, 2, 1, 2, 3],\n",
       "       [4, 3, 2, 1, 2],\n",
       "       [5, 4, 3, 2, 1]])"
      ]
     },
     "execution_count": 15,
     "metadata": {},
     "output_type": "execute_result"
    }
   ],
   "source": [
    "a = np.array([[1,2,3,4,5],[2,1,2,3,4],[3,2,1,2,3],[4,3,2,1,2],[5,4,3,2,1]])\n",
    "a"
   ]
  },
  {
   "cell_type": "code",
   "execution_count": 20,
   "id": "cf1904d0-58d1-4f77-b6e0-a92f9cb5a7ba",
   "metadata": {},
   "outputs": [],
   "source": [
    "# Triangular Matrix - 2 types - is a type of square matrix\n",
    "\n",
    "# upper triangular\n",
    "# lower triangular\n"
   ]
  },
  {
   "cell_type": "code",
   "execution_count": 21,
   "id": "05d31507-26c3-482c-80f1-ba3b8e2a6966",
   "metadata": {},
   "outputs": [
    {
     "data": {
      "text/plain": [
       "array([[1, 2, 3],\n",
       "       [1, 2, 3],\n",
       "       [1, 2, 3]])"
      ]
     },
     "execution_count": 21,
     "metadata": {},
     "output_type": "execute_result"
    }
   ],
   "source": [
    "a = np.array([[1,2,3],[1,2,3],[1,2,3]])\n",
    "a"
   ]
  },
  {
   "cell_type": "code",
   "execution_count": 22,
   "id": "982d6666-15af-4bef-b507-feb204584e4e",
   "metadata": {},
   "outputs": [
    {
     "data": {
      "text/plain": [
       "array([[1, 2, 3],\n",
       "       [0, 2, 3],\n",
       "       [0, 0, 3]])"
      ]
     },
     "execution_count": 22,
     "metadata": {},
     "output_type": "execute_result"
    }
   ],
   "source": [
    "np.triu(a)"
   ]
  },
  {
   "cell_type": "code",
   "execution_count": 23,
   "id": "f7218015-d6f6-47b0-905b-1b91665df0d7",
   "metadata": {},
   "outputs": [
    {
     "data": {
      "text/plain": [
       "array([[1, 0, 0],\n",
       "       [1, 2, 0],\n",
       "       [1, 2, 3]])"
      ]
     },
     "execution_count": 23,
     "metadata": {},
     "output_type": "execute_result"
    }
   ],
   "source": [
    "np.tril(a)"
   ]
  },
  {
   "cell_type": "code",
   "execution_count": 24,
   "id": "1937e615-ec99-431f-a0eb-688db73a1fff",
   "metadata": {},
   "outputs": [],
   "source": [
    "# Diagonal Matrix - is a type of square matrix - \n",
    "# where all the diagonal elements are non - zero and all the non - diagonal elements are zero"
   ]
  },
  {
   "cell_type": "code",
   "execution_count": 26,
   "id": "0a5ef937-4823-47c9-bdb8-b935ee2787c6",
   "metadata": {},
   "outputs": [
    {
     "data": {
      "text/plain": [
       "array([[1, 0, 0],\n",
       "       [0, 2, 0],\n",
       "       [0, 0, 3]])"
      ]
     },
     "execution_count": 26,
     "metadata": {},
     "output_type": "execute_result"
    }
   ],
   "source": [
    "d = np.array([[1,0,0],[0,2,0],[0,0,3]])\n",
    "d"
   ]
  },
  {
   "cell_type": "code",
   "execution_count": 28,
   "id": "5d060097-e4d7-4f12-a068-aa95d8893bec",
   "metadata": {},
   "outputs": [],
   "source": [
    "# identity matrix - is a type of diagonal matrix - all the principal diagonal elements is 1"
   ]
  },
  {
   "cell_type": "code",
   "execution_count": 29,
   "id": "d985f2b7-a8d0-4dc4-ac53-52d1738dbaa4",
   "metadata": {},
   "outputs": [
    {
     "data": {
      "text/plain": [
       "array([[1., 0., 0., 0.],\n",
       "       [0., 1., 0., 0.],\n",
       "       [0., 0., 1., 0.],\n",
       "       [0., 0., 0., 1.]])"
      ]
     },
     "execution_count": 29,
     "metadata": {},
     "output_type": "execute_result"
    }
   ],
   "source": [
    "np.eye(4)"
   ]
  },
  {
   "cell_type": "markdown",
   "id": "8bd497d1-1fbb-4481-8fd4-9de23a38a977",
   "metadata": {},
   "source": [
    "### Matrix Operations"
   ]
  },
  {
   "cell_type": "code",
   "execution_count": 30,
   "id": "7ca8ea25-529b-4f19-8376-e81c8506cab7",
   "metadata": {},
   "outputs": [],
   "source": [
    "# Transpose"
   ]
  },
  {
   "cell_type": "code",
   "execution_count": 31,
   "id": "388fd90c-409e-4736-adb2-12cd6b197aa6",
   "metadata": {},
   "outputs": [
    {
     "data": {
      "text/plain": [
       "array([[92, 21],\n",
       "       [90, 36],\n",
       "       [22, 82],\n",
       "       [98, 18]])"
      ]
     },
     "execution_count": 31,
     "metadata": {},
     "output_type": "execute_result"
    }
   ],
   "source": [
    "a = np.random.randint(10,100,(4,2))\n",
    "a"
   ]
  },
  {
   "cell_type": "code",
   "execution_count": 32,
   "id": "d6e93de4-33b4-4ba3-a33a-4f269cdf8819",
   "metadata": {},
   "outputs": [],
   "source": [
    "b = a.T"
   ]
  },
  {
   "cell_type": "code",
   "execution_count": 33,
   "id": "4e084cf2-2b77-4155-8b19-3bc620e4a0d1",
   "metadata": {},
   "outputs": [
    {
     "data": {
      "text/plain": [
       "array([[92, 90, 22, 98],\n",
       "       [21, 36, 82, 18]])"
      ]
     },
     "execution_count": 33,
     "metadata": {},
     "output_type": "execute_result"
    }
   ],
   "source": [
    "b"
   ]
  },
  {
   "cell_type": "code",
   "execution_count": 34,
   "id": "40fb9687-9071-432c-8f20-1f78aad9228c",
   "metadata": {},
   "outputs": [],
   "source": [
    "# Determinant"
   ]
  },
  {
   "cell_type": "code",
   "execution_count": 35,
   "id": "41d81acc-2c01-4f2a-8187-830b6c5eeb07",
   "metadata": {},
   "outputs": [
    {
     "data": {
      "text/plain": [
       "array([[80, 67, 51, 80],\n",
       "       [18, 96, 51, 32],\n",
       "       [81, 54, 52, 27],\n",
       "       [59, 76, 73, 48]])"
      ]
     },
     "execution_count": 35,
     "metadata": {},
     "output_type": "execute_result"
    }
   ],
   "source": [
    "x = np.random.randint(10,100,(4,4))\n",
    "x"
   ]
  },
  {
   "cell_type": "code",
   "execution_count": 37,
   "id": "84a5eb2c-c528-48e1-92dd-21023583e7a7",
   "metadata": {},
   "outputs": [
    {
     "data": {
      "text/plain": [
       "6765225.000000006"
      ]
     },
     "execution_count": 37,
     "metadata": {},
     "output_type": "execute_result"
    }
   ],
   "source": [
    "np.linalg.det(x)"
   ]
  },
  {
   "cell_type": "code",
   "execution_count": 38,
   "id": "58b2bf27-0841-4e88-9657-43d3f1a028bd",
   "metadata": {},
   "outputs": [],
   "source": [
    "# Rank of a matrix - no.of linearly independent rows or columns of a matrix"
   ]
  },
  {
   "cell_type": "code",
   "execution_count": 41,
   "id": "6dd5ec98-5c58-4a16-8cea-1cea690a7f97",
   "metadata": {},
   "outputs": [
    {
     "data": {
      "text/plain": [
       "array([[92, 21],\n",
       "       [90, 36],\n",
       "       [22, 82],\n",
       "       [98, 18]])"
      ]
     },
     "execution_count": 41,
     "metadata": {},
     "output_type": "execute_result"
    }
   ],
   "source": [
    "a"
   ]
  },
  {
   "cell_type": "code",
   "execution_count": 39,
   "id": "c650bcbc-b111-4af0-a176-ffbf91675fca",
   "metadata": {},
   "outputs": [
    {
     "data": {
      "text/plain": [
       "2"
      ]
     },
     "execution_count": 39,
     "metadata": {},
     "output_type": "execute_result"
    }
   ],
   "source": [
    "np.linalg.matrix_rank(a)"
   ]
  },
  {
   "cell_type": "code",
   "execution_count": 40,
   "id": "2da9fafc-130d-4c2b-8d5d-2b714a908a9d",
   "metadata": {},
   "outputs": [
    {
     "data": {
      "text/plain": [
       "1"
      ]
     },
     "execution_count": 40,
     "metadata": {},
     "output_type": "execute_result"
    }
   ],
   "source": [
    "y = 2\n",
    "np.linalg.matrix_rank(y)"
   ]
  },
  {
   "cell_type": "code",
   "execution_count": 42,
   "id": "0b47db37-536b-4613-87bc-cc317fbb676d",
   "metadata": {},
   "outputs": [
    {
     "data": {
      "text/plain": [
       "array([[80, 67, 51, 80],\n",
       "       [18, 96, 51, 32],\n",
       "       [81, 54, 52, 27],\n",
       "       [59, 76, 73, 48]])"
      ]
     },
     "execution_count": 42,
     "metadata": {},
     "output_type": "execute_result"
    }
   ],
   "source": [
    "x"
   ]
  },
  {
   "cell_type": "code",
   "execution_count": 43,
   "id": "0ab0d770-a369-4956-bde2-2e0736f15fbb",
   "metadata": {},
   "outputs": [
    {
     "data": {
      "text/plain": [
       "4"
      ]
     },
     "execution_count": 43,
     "metadata": {},
     "output_type": "execute_result"
    }
   ],
   "source": [
    "np.linalg.matrix_rank(x)"
   ]
  },
  {
   "cell_type": "code",
   "execution_count": 44,
   "id": "6397ad9b-2588-44e1-93e5-57812a1dc6e1",
   "metadata": {},
   "outputs": [
    {
     "data": {
      "text/plain": [
       "array([[92, 90, 22, 98],\n",
       "       [21, 36, 82, 18]])"
      ]
     },
     "execution_count": 44,
     "metadata": {},
     "output_type": "execute_result"
    }
   ],
   "source": [
    "b"
   ]
  },
  {
   "cell_type": "code",
   "execution_count": 45,
   "id": "229dca7c-cf3a-4a6a-9b0a-1c4fdb234e95",
   "metadata": {},
   "outputs": [
    {
     "data": {
      "text/plain": [
       "2"
      ]
     },
     "execution_count": 45,
     "metadata": {},
     "output_type": "execute_result"
    }
   ],
   "source": [
    "np.linalg.matrix_rank(b)"
   ]
  },
  {
   "cell_type": "code",
   "execution_count": null,
   "id": "2f989a69-d99d-460c-8391-dd325226f9ba",
   "metadata": {},
   "outputs": [],
   "source": []
  },
  {
   "cell_type": "code",
   "execution_count": null,
   "id": "504cd987-1919-4d35-ad75-6125d873ef09",
   "metadata": {},
   "outputs": [],
   "source": []
  },
  {
   "cell_type": "code",
   "execution_count": null,
   "id": "c43b493c-9d5d-4cf7-ac32-392e2d533bd9",
   "metadata": {},
   "outputs": [],
   "source": []
  },
  {
   "cell_type": "code",
   "execution_count": null,
   "id": "0237cc35-2373-4640-9f84-7b7f113d895c",
   "metadata": {},
   "outputs": [],
   "source": []
  },
  {
   "cell_type": "code",
   "execution_count": null,
   "id": "03f393af-93b5-43cf-9715-1c9bcc40cbe2",
   "metadata": {},
   "outputs": [],
   "source": []
  }
 ],
 "metadata": {
  "kernelspec": {
   "display_name": "Python 3 (ipykernel)",
   "language": "python",
   "name": "python3"
  },
  "language_info": {
   "codemirror_mode": {
    "name": "ipython",
    "version": 3
   },
   "file_extension": ".py",
   "mimetype": "text/x-python",
   "name": "python",
   "nbconvert_exporter": "python",
   "pygments_lexer": "ipython3",
   "version": "3.12.4"
  }
 },
 "nbformat": 4,
 "nbformat_minor": 5
}
